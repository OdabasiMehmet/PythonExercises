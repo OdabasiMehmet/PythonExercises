{
 "cells": [
  {
   "cell_type": "markdown",
   "id": "aa8a8952",
   "metadata": {},
   "source": [
    "<img src = \"https://fwangzones.com/wp-content/uploads/2020/08/Python-1024x341.png\" width= 65% >"
   ]
  },
  {
   "cell_type": "markdown",
   "id": "055dd901",
   "metadata": {},
   "source": [
    "# QUESTION 1\n",
    "\n",
    "*A Company decided to give bonus of %5 to employees if their year of service is more than 5 years.Write a program that prints out the bonus amount if the employee is eligible.*"
   ]
  },
  {
   "cell_type": "code",
   "execution_count": 3,
   "id": "378effd7",
   "metadata": {},
   "outputs": [
    {
     "name": "stdout",
     "output_type": "stream",
     "text": [
      "Please enter your name and lastname:  mehmet odabaşı\n",
      "Please enter your salary:  5000\n",
      "Please enter your total year of service in our company:  12\n",
      "Dear Mehmet Odabaşı, congrulations! You are eligible for a $250.0 bonus this year. \n"
     ]
    }
   ],
   "source": [
    "user_name= input(\"Please enter your name and lastname:  \").title()\n",
    "salary=input(\"Please enter your salary:  \")\n",
    "service_year=int(input(\"Please enter your total year of service in our company:  \" ))\n",
    "if service_year > 5:\n",
    "    bonus= float(salary) *0.05\n",
    "    print(f\"Dear {user_name}, congrulations! You are eligible for a ${bonus} bonus this year. \")\n",
    "else:\n",
    "    print(\"You are not eligible for bonus this year\")\n"
   ]
  },
  {
   "cell_type": "markdown",
   "id": "28b3560c",
   "metadata": {},
   "source": [
    "# QUESTION 2\n",
    "\n",
    "*A shop will give discount of 10% if the cost of purchased quantity is more than 1000 dollars. Suppose one unit will cost 100 dollars*"
   ]
  },
  {
   "cell_type": "code",
   "execution_count": 5,
   "id": "1f8db369",
   "metadata": {},
   "outputs": [
    {
     "name": "stdout",
     "output_type": "stream",
     "text": [
      "Please enter your name and lastname:  mehmet odabaşı\n",
      "How many units are you going to purchase today:  125\n",
      "Dear Mehmet Odabaşı,you have received $1250.0 discount and your total is $11250.0\n"
     ]
    }
   ],
   "source": [
    "user_name = input(\"Please enter your name and lastname:  \").title()\n",
    "unit_price = 100\n",
    "purchase_quantity= int(input(\"How many units are you going to purchase today:  \"))\n",
    "total_amount= purchase_quantity * unit_price\n",
    "if total_amount > 1000:\n",
    "    discount= total_amount * 0.10\n",
    "    print(f\"Dear {user_name},you have received ${discount} discount and your total is ${total_amount-discount}\")\n",
    "else:\n",
    "    print(f\"Dear {user_name}, your total is ${total_amount}\")"
   ]
  },
  {
   "cell_type": "markdown",
   "id": "e5a9790f",
   "metadata": {},
   "source": [
    "# QUESTION 3\n",
    "\n",
    "*Create a function finalGrade, which calculates the final grade of a student depending on two parameters: A grade for the exam and a number of completed projects*\n",
    "*This function should take two arguments: exam - grade for exam (from 0 to 100); projects - number of completed projects (from 0 and above);*\n",
    "\n",
    "*This function should return a number (final grade). There are four types of final grades:*\n",
    "\n",
    "*100, if a grade for the exam is more than 90 or if a number of completed projects more than 10.*\n",
    "\n",
    "*90, if a grade for the exam is more than 75 and if a number of completed projects is minimum 5.*\n",
    "\n",
    "*75, if a grade for the exam is more than 50 and if a number of completed projects is minimum 2.*\n",
    "\n",
    "*0, in other cases*\n",
    "\n",
    "*Examples\n",
    "final_grade(100, 12) # 100\n",
    "final_grade(99, 0) # 100\n",
    "final_grade(10, 15) # 100*"
   ]
  },
  {
   "cell_type": "code",
   "execution_count": 11,
   "id": "d83d6145",
   "metadata": {},
   "outputs": [
    {
     "name": "stdout",
     "output_type": "stream",
     "text": [
      "Please enter your name:  Mehmet Odabaşı\n",
      "Please enter your exam grade:  100\n",
      "Please enter the number of projects you have completed. Enter 0 if none:  10\n",
      "Dear Mehmet Odabaşı your final grade is 100\n"
     ]
    }
   ],
   "source": [
    "name = input (\"Please enter your name:  \")\n",
    "grade= int (input(\"Please enter your exam grade:  \"))\n",
    "projects= int(input(\"Please enter the number of projects you have completed. Enter 0 if none:  \"))\n",
    "def finalGrade(g,p):\n",
    "    if grade >90 or projects >10:\n",
    "        return 100\n",
    "    elif grade >75 and projects > 5:\n",
    "        return 90\n",
    "    elif grade >50 and projects > 2:\n",
    "        return 75\n",
    "    else:\n",
    "        return 0\n",
    "print(f\"Dear {name} your final grade is {finalGrade(grade, projects)}\")    "
   ]
  },
  {
   "cell_type": "markdown",
   "id": "a8a9aab6",
   "metadata": {},
   "source": [
    "# QUESTION 4\n",
    "\n",
    "*Complete the function which returns the weekday according to the input number:*\n",
    "*input 1 returns \"Sunday\"*\n",
    "*input 7 returns \"Saturday\"*\n",
    "*\"Otherwise return \"You have entered a wrong nuber, please enter a number 1-7\"*\n"
   ]
  },
  {
   "cell_type": "code",
   "execution_count": 20,
   "id": "c254ff10",
   "metadata": {},
   "outputs": [
    {
     "name": "stdout",
     "output_type": "stream",
     "text": [
      "Please enter a number between 1 and 7:  8\n",
      "You have entered a wrong nuber, please enter a number 1-79\n",
      "You have entered a wrong nuber, please enter a number 1-75\n",
      "Thursday\n"
     ]
    }
   ],
   "source": [
    "weekdays= list(range(1,8))\n",
    "day= int(input(\"Please enter a number between 1 and 7:  \"))\n",
    "while day not in weekdays:\n",
    "    day= int(input(\"You have entered a wrong number, please enter a number 1-7:  \"))\n",
    "if day == 1:\n",
    "    print(\"Sunday\")\n",
    "elif day ==2:\n",
    "    print(\"Monday\")\n",
    "elif day ==3:\n",
    "    print(\"Tuesday\")\n",
    "elif day ==4:\n",
    "    print(\"Wednesday\")\n",
    "elif day ==5:\n",
    "    print(\"Thursday\")\n",
    "elif day ==6:\n",
    "    print(\"Friday\")\n",
    "elif day ==6:\n",
    "    print(\"Saturday\")\n",
    "    "
   ]
  },
  {
   "cell_type": "code",
   "execution_count": 24,
   "id": "043e5faf",
   "metadata": {},
   "outputs": [
    {
     "name": "stdout",
     "output_type": "stream",
     "text": [
      "Please enter a number between 1 and 7:  8\n",
      "You have entered a wrong number, please enter a number 1-7:  5\n",
      "(5, 'Thursday')\n"
     ]
    }
   ],
   "source": [
    "# Another solution with using zip function\n",
    "numbers = [1,2,3,4,5,6,7]\n",
    "weekdays = [\"Sunday\",\"Monday\",\"Tuesday\",\"Wednesday\",\"Thursday\",\"Friday\",\"Saturday\"]\n",
    "week = list(zip(numbers,weekdays)) #Need to convert to list to see the items\n",
    "day= int(input(\"Please enter a number between 1 and 7:  \"))\n",
    "while day not in numbers:\n",
    "    day= int(input(\"You have entered a wrong number, please enter a number 1-7:  \"))\n",
    "print(week[day-1]) #To make the index start from 0 we define day - 1\n"
   ]
  }
 ],
 "metadata": {
  "kernelspec": {
   "display_name": "Python 3",
   "language": "python",
   "name": "python3"
  },
  "language_info": {
   "codemirror_mode": {
    "name": "ipython",
    "version": 3
   },
   "file_extension": ".py",
   "mimetype": "text/x-python",
   "name": "python",
   "nbconvert_exporter": "python",
   "pygments_lexer": "ipython3",
   "version": "3.8.8"
  }
 },
 "nbformat": 4,
 "nbformat_minor": 5
}

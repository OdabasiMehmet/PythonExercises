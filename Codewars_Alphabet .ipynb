{
 "cells": [
  {
   "cell_type": "markdown",
   "id": "d7980422",
   "metadata": {},
   "source": [
    "In this kata you are required to, given a string, replace every letter with its position in the alphabet.\n",
    "\n",
    "If anything in the text isn't a letter, ignore it and don't return it.\n",
    "\n",
    "\"a\" = 1, \"b\" = 2, etc.\n",
    "\n",
    "Example\n",
    "alphabet_position(\"The sunset sets at twelve o' clock.\")\n",
    "Should return \"20 8 5 19 21 14 19 5 20 19 5 20 19 1 20 20 23 5 12 22 5 15 3 12 15 3 11\" ( as a string )"
   ]
  },
  {
   "cell_type": "code",
   "execution_count": 2,
   "id": "1ee18a27",
   "metadata": {},
   "outputs": [
    {
     "data": {
      "text/plain": [
       "'10 21 19 20 1 19 9 13 16 12 5 19 20 18 9 14 7'"
      ]
     },
     "execution_count": 2,
     "metadata": {},
     "output_type": "execute_result"
    }
   ],
   "source": [
    "sentence = \"Just a simple string\"\n",
    "\n",
    "def func(sentence) :\n",
    "  result = \"\"\n",
    "  for i in sentence :\n",
    "    if i.isalpha() :\n",
    "      result += str(ord(i.upper()) - 64 ) + \" \"\n",
    "  return result.strip()\n",
    "\n",
    "func(sentence)"
   ]
  },
  {
   "cell_type": "code",
   "execution_count": null,
   "id": "dc7f6740",
   "metadata": {},
   "outputs": [],
   "source": []
  }
 ],
 "metadata": {
  "kernelspec": {
   "display_name": "Python 3",
   "language": "python",
   "name": "python3"
  },
  "language_info": {
   "codemirror_mode": {
    "name": "ipython",
    "version": 3
   },
   "file_extension": ".py",
   "mimetype": "text/x-python",
   "name": "python",
   "nbconvert_exporter": "python",
   "pygments_lexer": "ipython3",
   "version": "3.8.8"
  }
 },
 "nbformat": 4,
 "nbformat_minor": 5
}
